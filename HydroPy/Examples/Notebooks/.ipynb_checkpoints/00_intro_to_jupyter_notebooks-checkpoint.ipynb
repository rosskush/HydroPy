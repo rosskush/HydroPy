{
 "cells": [
  {
   "cell_type": "markdown",
   "metadata": {},
   "source": [
    "# This  `jupyter notebook` will serve as an introduction to using the python programming language in the fields of hydrology and hydrogeology\n"
   ]
  },
  {
   "cell_type": "markdown",
   "metadata": {},
   "source": [
    "The use of python programming has been growing in the sciences as the language is easy to understand and provides an easy way of producing results and how data is manipulated.   "
   ]
  },
  {
   "cell_type": "code",
   "execution_count": 10,
   "metadata": {},
   "outputs": [
    {
     "name": "stdout",
     "output_type": "stream",
     "text": [
      "3.6.4 | packaged by conda-forge | (default, Dec 23 2017, 16:54:01) \n",
      "[GCC 4.2.1 Compatible Apple LLVM 6.1.0 (clang-602.0.53)]\n",
      "pandas version: 0.20.1\n",
      "numpy version: 1.12.1\n",
      "matplotlib version: 2.1.2\n",
      "flopy version: 3.2.6\n"
     ]
    }
   ],
   "source": [
    "%matplotlib inline\n",
    "import pandas as pd\n",
    "try:\n",
    "    from importlib import reload # python3\n",
    "except:\n",
    "    pass # python2 (reload in default namespace)\n",
    "import sys\n",
    "import shutil\n",
    "import numpy as np\n",
    "import matplotlib as mpl\n",
    "import matplotlib.pyplot as plt\n",
    "import flopy\n",
    "\n",
    "\n",
    "print(sys.version)\n",
    "print('pandas version: {}'.format(pd.__version__))\n",
    "print('numpy version: {}'.format(np.__version__))\n",
    "print('matplotlib version: {}'.format(mpl.__version__))\n",
    "print('flopy version: {}'.format(flopy.__version__))"
   ]
  },
  {
   "cell_type": "markdown",
   "metadata": {
    "collapsed": true
   },
   "source": [
    "# If you did not recive an error you did well!\n",
    "\n",
    "Now here are some into python data types"
   ]
  },
  {
   "cell_type": "code",
   "execution_count": 11,
   "metadata": {},
   "outputs": [
    {
     "name": "stdout",
     "output_type": "stream",
     "text": [
      "Hello World! this is a string! it contains text, but can be any character between a set of ' or \"\n"
     ]
    }
   ],
   "source": [
    "a = 'Hello World!'\n",
    "\n",
    "print(a, 'this is a string! it contains text, but can be any character between a set of \\' or \"')"
   ]
  },
  {
   "cell_type": "code",
   "execution_count": 12,
   "metadata": {},
   "outputs": [
    {
     "name": "stdout",
     "output_type": "stream",
     "text": [
      "4 this is an int\n",
      "4.0 this is a float\n"
     ]
    }
   ],
   "source": [
    "b = 4\n",
    "c = float(b)\n",
    "\n",
    "print(b, 'this is an int')\n",
    "\n",
    "print(c, 'this is a float')\n"
   ]
  },
  {
   "cell_type": "markdown",
   "metadata": {},
   "source": [
    "### Now here are some data structures\n",
    "Data structures contain data types in different ways"
   ]
  },
  {
   "cell_type": "code",
   "execution_count": 13,
   "metadata": {},
   "outputs": [
    {
     "name": "stdout",
     "output_type": "stream",
     "text": [
      "[0, 2.0, 4, 6, 'sixty']  this is a list, it can contain all sorts of data types\n"
     ]
    }
   ],
   "source": [
    "ls = [0,2.0,4,6,'sixty']\n",
    "print(ls, ' this is a list, it can contain all sorts of data types')"
   ]
  },
  {
   "cell_type": "code",
   "execution_count": 19,
   "metadata": {},
   "outputs": [
    {
     "name": "stdout",
     "output_type": "stream",
     "text": [
      "[ 2.   4.   6.   4.   3.   9.3] this is an array, it is similar to a list but you can do much more\n",
      "4.71666666667 this is the mean of the array\n",
      "28.3 2.0  this is the sum and the minimum\n"
     ]
    }
   ],
   "source": [
    "ls2 = [2,4,6,4,3,9.3]\n",
    "array = np.array(ls2)\n",
    "\n",
    "print(array, 'this is an array, it is similar to a list but you can do much more')\n",
    "\n",
    "print(array.mean(), 'this is the mean of the array')\n",
    "\n",
    "print(array.sum(), array.min(), ' this is the sum and the minimum')"
   ]
  },
  {
   "cell_type": "markdown",
   "metadata": {},
   "source": [
    "# Now lets do some loops!!!"
   ]
  },
  {
   "cell_type": "code",
   "execution_count": 20,
   "metadata": {},
   "outputs": [
    {
     "name": "stdout",
     "output_type": "stream",
     "text": [
      "2.0\n",
      "4.0\n",
      "6.0\n",
      "4.0\n",
      "3.0\n",
      "9.3\n"
     ]
    }
   ],
   "source": [
    "for i in range(len(array)):\n",
    "    print(array[i])"
   ]
  },
  {
   "cell_type": "code",
   "execution_count": null,
   "metadata": {
    "collapsed": true
   },
   "outputs": [],
   "source": []
  }
 ],
 "metadata": {
  "kernelspec": {
   "display_name": "Python 3",
   "language": "python",
   "name": "python3"
  },
  "language_info": {
   "codemirror_mode": {
    "name": "ipython",
    "version": 3
   },
   "file_extension": ".py",
   "mimetype": "text/x-python",
   "name": "python",
   "nbconvert_exporter": "python",
   "pygments_lexer": "ipython3",
   "version": "3.6.4"
  }
 },
 "nbformat": 4,
 "nbformat_minor": 2
}
