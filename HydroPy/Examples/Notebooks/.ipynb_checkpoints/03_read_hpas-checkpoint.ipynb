{
 "cells": [
  {
   "cell_type": "markdown",
   "metadata": {},
   "source": [
    "# This will show us how to read a groundwater model and produce plot\n",
    "\n",
    "![hpas.png](\"../Figures/hpas.png\")\n",
    "\n",
    "\n",
    "http://www.twdb.texas.gov/groundwater/models/gam/hpas/hpas.asp"
   ]
  },
  {
   "cell_type": "code",
   "execution_count": 1,
   "metadata": {},
   "outputs": [],
   "source": [
    "import pandas as pd\n",
    "import matplotlib.pyplot as plt\n",
    "import flopy\n",
    "import numpy as np\n",
    "import os\n",
    "# %matplotlib inline\n",
    "%matplotlib qt"
   ]
  },
  {
   "cell_type": "code",
   "execution_count": 2,
   "metadata": {},
   "outputs": [],
   "source": [
    "workspace = os.path.join('hpas_dir')"
   ]
  },
  {
   "cell_type": "code",
   "execution_count": 20,
   "metadata": {},
   "outputs": [
    {
     "name": "stdout",
     "output_type": "stream",
     "text": [
      "2460480.0 1531200.0\n",
      "(0.0, 2460480.0, -929280.0, 2460480.0)\n"
     ]
    }
   ],
   "source": [
    "# here are some useful things from the dis file.\n",
    "xul,yul,Lx,Ly = 0.0,2460480.0,2.46048e+06, 1.5312e+06\n",
    "print(Lx,Ly)\n",
    "extent = (xul,xul+Lx,Ly-yul,yul)\n",
    "print(extent)"
   ]
  },
  {
   "cell_type": "markdown",
   "metadata": {},
   "source": [
    "# So now lets look at the head of the top layer (Ogallala) and plot it as an array"
   ]
  },
  {
   "cell_type": "code",
   "execution_count": 21,
   "metadata": {},
   "outputs": [],
   "source": [
    "shead = np.loadtxt(os.path.join(workspace,'shead_lay0'))\n",
    "ehead = np.loadtxt(os.path.join(workspace,'ehead_lay0'))\n",
    "ibound = np.loadtxt(os.path.join(workspace,'ibound_lay0'))"
   ]
  },
  {
   "cell_type": "code",
   "execution_count": 22,
   "metadata": {},
   "outputs": [],
   "source": [
    "fig, ax = plt.subplots()\n",
    "shead[ibound==0] = np.nan\n",
    "plt.imshow(shead,cmap='jet',extent=extent)\n",
    "plt.colorbar()\n",
    "plt.title('Starting Head')\n",
    "fig.set_size_inches(13, 8, forward=True)\n",
    "fig.tight_layout()\n",
    "\n",
    "fig, ax = plt.subplots()\n",
    "ehead[ibound==0] = np.nan\n",
    "plt.imshow(ehead,cmap='jet',extent=extent)\n",
    "plt.colorbar()\n",
    "plt.title('Final Head')\n",
    "fig.set_size_inches(13, 8, forward=True)\n",
    "fig.tight_layout()\n"
   ]
  },
  {
   "cell_type": "markdown",
   "metadata": {},
   "source": [
    "# Now lets plot the difference"
   ]
  },
  {
   "cell_type": "code",
   "execution_count": 23,
   "metadata": {},
   "outputs": [],
   "source": [
    "diff = shead - ehead\n",
    "\n",
    "# modelmap = flopy.plot.ModelMap(model=mf, rotation=0,ax=ax)\n",
    "fig, ax = plt.subplots()\n",
    "plt.imshow(diff,cmap='jet',extent=extent)\n",
    "plt.colorbar()\n",
    "# linecollection = modelmap.plot_grid(ax=ax)\n",
    "plt.title('Starting Head - Final Head')\n",
    "fig.set_size_inches(13, 8, forward=True)\n",
    "fig.tight_layout()"
   ]
  },
  {
   "cell_type": "code",
   "execution_count": null,
   "metadata": {},
   "outputs": [],
   "source": []
  }
 ],
 "metadata": {
  "kernelspec": {
   "display_name": "Python 3",
   "language": "python",
   "name": "python3"
  },
  "language_info": {
   "codemirror_mode": {
    "name": "ipython",
    "version": 3
   },
   "file_extension": ".py",
   "mimetype": "text/x-python",
   "name": "python",
   "nbconvert_exporter": "python",
   "pygments_lexer": "ipython3",
   "version": "3.6.4"
  }
 },
 "nbformat": 4,
 "nbformat_minor": 2
}
